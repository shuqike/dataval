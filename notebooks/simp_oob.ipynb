{
 "cells": [
  {
   "cell_type": "code",
   "execution_count": 1,
   "metadata": {},
   "outputs": [
    {
     "name": "stderr",
     "output_type": "stream",
     "text": [
      "c:\\Users\\AronQ\\.conda\\envs\\flenv\\lib\\site-packages\\tqdm\\auto.py:21: TqdmWarning: IProgress not found. Please update jupyter and ipywidgets. See https://ipywidgets.readthedocs.io/en/stable/user_install.html\n",
      "  from .autonotebook import tqdm as notebook_tqdm\n"
     ]
    },
    {
     "name": "stdout",
     "output_type": "stream",
     "text": [
      "Read dataset information from sample_openml.csv\n",
      "In ../data, dataset_clf_openml does not exist.\n",
      "webdata_wXa_350.pkl does not exist. Will download it from openml\n",
      "ID: 350  , N: 36974, p: 123  , Name: webdata_wXa                   \n",
      "vehicle_sensIT_357.pkl does not exist. Will download it from openml\n",
      "ID: 357  , N: 98528, p: 100  , Name: vehicle_sensIT                \n",
      "pol_722.pkl does not exist. Will download it from openml\n",
      "ID: 722  , N: 15000, p: 48   , Name: pol                           \n",
      "2dplanes_727.pkl does not exist. Will download it from openml\n",
      "ID: 727  , N: 40768, p: 10   , Name: 2dplanes                      \n",
      "fried_901.pkl does not exist. Will download it from openml\n",
      "ID: 901  , N: 40768, p: 10   , Name: fried                         \n",
      "nomao_1486.pkl does not exist. Will download it from openml\n",
      "ID: 1486 , N: 34465, p: 118  , Name: nomao                         \n",
      "default-of-credit-card-clients_42477.pkl does not exist. Will download it from openml\n",
      "ID: 42477, N: 30000, p: 23   , Name: default-of-credit-card-clients\n",
      "law-school-admission-bianry_43890.pkl does not exist. Will download it from openml\n",
      "ID: 43890, N: 20800, p: 11   , Name: law-school-admission-bianry   \n",
      "MiniBooNE_43974.pkl does not exist. Will download it from openml\n"
     ]
    },
    {
     "name": "stderr",
     "output_type": "stream",
     "text": [
      "WARNING:root:Received uncompressed content from OpenML for https://api.openml.org/data/v1/download/22103062/MiniBooNE.arff.\n"
     ]
    }
   ],
   "source": [
    "import sys\n",
    "sys.path.append('../')\n",
    "import src.utils as utils\n",
    "utils.download_openML_dataset()"
   ]
  }
 ],
 "metadata": {
  "kernelspec": {
   "display_name": "flenv",
   "language": "python",
   "name": "python3"
  },
  "language_info": {
   "codemirror_mode": {
    "name": "ipython",
    "version": 3
   },
   "file_extension": ".py",
   "mimetype": "text/x-python",
   "name": "python",
   "nbconvert_exporter": "python",
   "pygments_lexer": "ipython3",
   "version": "3.9.16"
  },
  "orig_nbformat": 4
 },
 "nbformat": 4,
 "nbformat_minor": 2
}
