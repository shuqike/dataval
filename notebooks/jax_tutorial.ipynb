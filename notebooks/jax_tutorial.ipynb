{
  "cells": [
    {
      "cell_type": "code",
      "execution_count": 1,
      "metadata": {
        "id": "ElNxlJxZzcni",
        "colab": {
          "base_uri": "https://localhost:8080/"
        },
        "outputId": "c74be4ae-3832-4cbf-9821-2ecd088bcbee"
      },
      "outputs": [
        {
          "output_type": "stream",
          "name": "stderr",
          "text": [
            "<ipython-input-1-c9b54a9410fb>:11: DeprecationWarning: `set_matplotlib_formats` is deprecated since IPython 7.23, directly use `matplotlib_inline.backend_inline.set_matplotlib_formats()`\n",
            "  set_matplotlib_formats('svg', 'pdf') # For export\n"
          ]
        }
      ],
      "source": [
        "## Standard libraries\n",
        "import os\n",
        "import math\n",
        "import numpy as np\n",
        "import time\n",
        "\n",
        "## Imports for plotting\n",
        "import matplotlib.pyplot as plt\n",
        "%matplotlib inline\n",
        "from IPython.display import set_matplotlib_formats\n",
        "set_matplotlib_formats('svg', 'pdf') # For export\n",
        "from matplotlib.colors import to_rgba\n",
        "import seaborn as sns\n",
        "sns.set()\n",
        "\n",
        "## Progress bar\n",
        "from tqdm.auto import tqdm"
      ]
    },
    {
      "cell_type": "code",
      "source": [
        "import jax\n",
        "import jax.numpy as jnp\n",
        "print(\"Using jax\", jax.__version__)"
      ],
      "metadata": {
        "colab": {
          "base_uri": "https://localhost:8080/"
        },
        "id": "5crcCaLKIHoE",
        "outputId": "91d29a9d-b376-47d8-9150-ae4dc08012fa"
      },
      "execution_count": 2,
      "outputs": [
        {
          "output_type": "stream",
          "name": "stdout",
          "text": [
            "Using jax 0.4.7\n"
          ]
        }
      ]
    },
    {
      "cell_type": "markdown",
      "source": [
        "## Pseudo random"
      ],
      "metadata": {
        "id": "pOVZAsT4VVIc"
      }
    },
    {
      "cell_type": "code",
      "source": [
        "rng = jax.random.PRNGKey(42)"
      ],
      "metadata": {
        "colab": {
          "base_uri": "https://localhost:8080/"
        },
        "id": "nUZhsrweIUsD",
        "outputId": "3c769541-afbb-4f98-c429-444784de40e4"
      },
      "execution_count": 3,
      "outputs": [
        {
          "output_type": "stream",
          "name": "stderr",
          "text": [
            "WARNING:jax._src.xla_bridge:No GPU/TPU found, falling back to CPU. (Set TF_CPP_MIN_LOG_LEVEL=0 and rerun for more info.)\n"
          ]
        }
      ]
    },
    {
      "cell_type": "code",
      "source": [
        "# A non-desirable way of generating pseudo-random numbers...\n",
        "jax_random_number_1 = jax.random.normal(rng)\n",
        "jax_random_number_2 = jax.random.normal(rng)\n",
        "print('JAX - Random number 1:', jax_random_number_1)\n",
        "print('JAX - Random number 2:', jax_random_number_2)\n",
        "\n",
        "# Typical random numbers in NumPy\n",
        "np.random.seed(42)\n",
        "np_random_number_1 = np.random.normal()\n",
        "np_random_number_2 = np.random.normal()\n",
        "print('NumPy - Random number 1:', np_random_number_1)\n",
        "print('NumPy - Random number 2:', np_random_number_2)"
      ],
      "metadata": {
        "colab": {
          "base_uri": "https://localhost:8080/"
        },
        "id": "wonlx6KKHqdU",
        "outputId": "0e9c22ff-2bb9-4b02-ff68-95a117803a57"
      },
      "execution_count": 4,
      "outputs": [
        {
          "output_type": "stream",
          "name": "stdout",
          "text": [
            "JAX - Random number 1: -0.18471177\n",
            "JAX - Random number 2: -0.18471177\n",
            "NumPy - Random number 1: 0.4967141530112327\n",
            "NumPy - Random number 2: -0.13826430117118466\n"
          ]
        }
      ]
    },
    {
      "cell_type": "code",
      "source": [
        "rng, subkey1, subkey2 = jax.random.split(rng, num=3)  # We create 3 new keys\n",
        "jax_random_number_1 = jax.random.normal(subkey1)\n",
        "jax_random_number_2 = jax.random.normal(subkey2)\n",
        "print('JAX new - Random number 1:', jax_random_number_1)\n",
        "print('JAX new - Random number 2:', jax_random_number_2)\n",
        "rng = jax.random.PRNGKey(42)"
      ],
      "metadata": {
        "colab": {
          "base_uri": "https://localhost:8080/"
        },
        "id": "pzPVt5UQHW8O",
        "outputId": "3a4fb5cc-3608-4af6-aa60-b4f4555fd752"
      },
      "execution_count": 5,
      "outputs": [
        {
          "output_type": "stream",
          "name": "stdout",
          "text": [
            "JAX new - Random number 1: 0.107961535\n",
            "JAX new - Random number 2: -1.2226542\n"
          ]
        }
      ]
    },
    {
      "cell_type": "markdown",
      "source": [
        "## Model"
      ],
      "metadata": {
        "id": "h4UllLmqVbhc"
      }
    },
    {
      "cell_type": "code",
      "source": [
        "try:\n",
        "    import flax\n",
        "except ModuleNotFoundError: # Install flax if missing\n",
        "    !pip install --quiet flax\n",
        "    import flax"
      ],
      "metadata": {
        "id": "_1z70xQeT5pL"
      },
      "execution_count": 6,
      "outputs": []
    },
    {
      "cell_type": "code",
      "source": [
        "from flax import linen as nn"
      ],
      "metadata": {
        "id": "rWACWUocT-4S"
      },
      "execution_count": 7,
      "outputs": []
    },
    {
      "cell_type": "code",
      "source": [
        "class SimpleClassifier(nn.Module):\n",
        "  num_hidden : int   # Number of hidden neurons\n",
        "  num_outputs : int  # Number of output neurons\n",
        "\n",
        "  @nn.compact\n",
        "  def __call__(self, x):\n",
        "    x = nn.Dense(features=self.num_hidden)(x)\n",
        "    x = nn.tanh(x)\n",
        "    x = nn.Dense(features=self.num_outputs)(x)\n",
        "    return x"
      ],
      "metadata": {
        "id": "ZEyxxHwxOL9I"
      },
      "execution_count": 8,
      "outputs": []
    },
    {
      "cell_type": "code",
      "source": [
        "model = SimpleClassifier(num_hidden=8, num_outputs=1)\n",
        "print(model)"
      ],
      "metadata": {
        "colab": {
          "base_uri": "https://localhost:8080/"
        },
        "id": "nDx0bE03Uifi",
        "outputId": "20834ecd-0d5e-4b51-cd63-9a487f2140f8"
      },
      "execution_count": 9,
      "outputs": [
        {
          "output_type": "stream",
          "name": "stdout",
          "text": [
            "SimpleClassifier(\n",
            "    # attributes\n",
            "    num_hidden = 8\n",
            "    num_outputs = 1\n",
            ")\n"
          ]
        }
      ]
    },
    {
      "cell_type": "code",
      "source": [
        "rng, inp_rng, init_rng = jax.random.split(rng, 3)\n",
        "inp = jax.random.normal(inp_rng, (8, 2))  # Batch size 8, input size 2\n",
        "# Initialize the model\n",
        "params = model.init(init_rng, inp)\n",
        "print(params)\n",
        "model.apply(params, inp)"
      ],
      "metadata": {
        "colab": {
          "base_uri": "https://localhost:8080/"
        },
        "id": "A8f04TTRUk6-",
        "outputId": "ace26690-a607-4219-ed5c-d591b6c964ee"
      },
      "execution_count": 10,
      "outputs": [
        {
          "output_type": "stream",
          "name": "stdout",
          "text": [
            "FrozenDict({\n",
            "    params: {\n",
            "        Dense_0: {\n",
            "            kernel: Array([[-0.8734889 ,  0.03292416,  0.45095628,  0.9860286 ,  0.9650168 ,\n",
            "                    -0.50356966, -0.567441  , -0.32092765],\n",
            "                   [ 0.6106076 , -0.8035141 , -0.8497237 , -1.0364467 ,  0.11642699,\n",
            "                    -0.37274948, -0.06301995,  0.23880544]], dtype=float32),\n",
            "            bias: Array([0., 0., 0., 0., 0., 0., 0., 0.], dtype=float32),\n",
            "        },\n",
            "        Dense_1: {\n",
            "            kernel: Array([[-0.08973367],\n",
            "                   [-0.15572299],\n",
            "                   [ 0.12597609],\n",
            "                   [-0.02248076],\n",
            "                   [ 0.48822802],\n",
            "                   [ 0.19107282],\n",
            "                   [-0.32372728],\n",
            "                   [-0.04857434]], dtype=float32),\n",
            "            bias: Array([0.], dtype=float32),\n",
            "        },\n",
            "    },\n",
            "})\n"
          ]
        },
        {
          "output_type": "execute_result",
          "data": {
            "text/plain": [
              "Array([[ 0.6650056 ],\n",
              "       [ 0.20904619],\n",
              "       [ 0.30390516],\n",
              "       [-0.4101298 ],\n",
              "       [ 0.5975989 ],\n",
              "       [-0.66803074],\n",
              "       [-0.11172031],\n",
              "       [-0.82014966]], dtype=float32)"
            ]
          },
          "metadata": {},
          "execution_count": 10
        }
      ]
    },
    {
      "cell_type": "markdown",
      "source": [
        "## Data"
      ],
      "metadata": {
        "id": "nhTJTiMFVdCK"
      }
    },
    {
      "cell_type": "code",
      "source": [
        "import torch"
      ],
      "metadata": {
        "id": "3c2oEl8CVRFq"
      },
      "execution_count": null,
      "outputs": []
    },
    {
      "cell_type": "code",
      "source": [
        "class XORDataset(torch.utils.data.Dataset):\n",
        "  \n",
        "  def __init__(self, size, seed, std=0.1):\n",
        "    '''\n",
        "    Inputs:\n",
        "      size - Number of data points we want to generate\n",
        "      seed - The random seed\n",
        "      std - The standard deviation of the noise\n",
        "    '''\n",
        "    super().__init__()\n",
        "    self.size = size\n",
        "    self.np_rng = np.random.RandomState(seed=seed)\n",
        "    self.std = std\n",
        "    self.generate_continuous_xor()\n",
        "  \n",
        "  def generate_continuous_xor(self):\n",
        "    # xor class with noisy\n",
        "    data = self.np_rng.randint(low=0, high=2, size=(self.size, 2)).astype(np.float32)\n",
        "    label = (data.sum(axis=1) == 1).astype(np.int32)\n",
        "    data += self.np_rng.normal(loc=0.0, scale=self.std, size=data.shape)\n",
        "    self.data = data\n",
        "    self.label = label\n",
        "  \n",
        "  def __len__(self):\n",
        "    # Number of data point we have. Alternatively self.data.shape[0], or self.label.shape[0]\n",
        "    return self.size\n",
        "  \n",
        "  def __getitem__(self, idx):\n",
        "    # Return the idx-th data point of the dataset\n",
        "    # If we have multiple things to return (data point and label), we can return them as tuple\n",
        "    data_point = self.data[idx]\n",
        "    data_label = self.label[idx]\n",
        "    return data_point, data_label"
      ],
      "metadata": {
        "id": "0enymWhsX6dt"
      },
      "execution_count": null,
      "outputs": []
    }
  ],
  "metadata": {
    "kernelspec": {
      "display_name": "flenv",
      "language": "python",
      "name": "python3"
    },
    "language_info": {
      "name": "python",
      "version": "3.9.16"
    },
    "orig_nbformat": 4,
    "colab": {
      "provenance": []
    }
  },
  "nbformat": 4,
  "nbformat_minor": 0
}