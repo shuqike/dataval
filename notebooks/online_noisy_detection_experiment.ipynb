{
 "cells": [
  {
   "cell_type": "code",
   "execution_count": null,
   "metadata": {},
   "outputs": [],
   "source": [
    "import sys\n",
    "sys.path.append('../')\n",
    "import time\n",
    "from collections import namedtuple\n",
    "from tqdm import tqdm\n",
    "import numpy as np\n",
    "import torch\n",
    "import torchvision\n",
    "import src.utils as utils\n",
    "from src.models import LeNetMNIST, ResVestimatorMNIST, R18VestimatorMNIST, Vestimator\n",
    "from src.frameworks.online_dvrl import Odvrl"
   ]
  },
  {
   "cell_type": "code",
   "execution_count": null,
   "metadata": {},
   "outputs": [],
   "source": [
    "from collections import namedtuple\n",
    "Parameters = namedtuple('Parameters', [\n",
    "    'saving_path',\n",
    "    'val_batch_size',\n",
    "    'epochs',\n",
    "    'device',\n",
    "    'learning_rate',\n",
    "    'num_workers',\n",
    "    # 'input_dim',\n",
    "    # 'hidden_dim',\n",
    "    # 'output_dim',\n",
    "    # 'layer_number',\n",
    "])"
   ]
  },
  {
   "cell_type": "code",
   "execution_count": null,
   "metadata": {},
   "outputs": [],
   "source": [
    "parameters = Parameters(\n",
    "    saving_path='../logs',\n",
    "    val_batch_size=32,\n",
    "    epochs=150,\n",
    "    device='cuda',\n",
    "    learning_rate=1e-4,\n",
    "    num_workers=1,\n",
    "    # input_dim=794,\n",
    "    # hidden_dim=100,\n",
    "    # output_dim=10,\n",
    "    # layer_number=5,\n",
    ")"
   ]
  },
  {
   "cell_type": "code",
   "execution_count": null,
   "metadata": {},
   "outputs": [],
   "source": [
    "T = 10\n",
    "noise_level = 0.2\n",
    "seed = 3407\n",
    "num_weak = 30\n",
    "pred_model = LeNetMNIST()\n",
    "val_model = LeNetMNIST()\n",
    "value_estimator = R18VestimatorMNIST()"
   ]
  },
  {
   "cell_type": "code",
   "execution_count": null,
   "metadata": {},
   "outputs": [],
   "source": [
    "np.random.seed(seed)\n",
    "torch.manual_seed(seed)"
   ]
  },
  {
   "cell_type": "code",
   "execution_count": null,
   "metadata": {},
   "outputs": [],
   "source": [
    "# run 'pretrain_mnist.ipynb' first\n",
    "# then load this pretrained model\n",
    "state_dict = torch.load(\"../data/pretrained_models/pretrained_lenetmnist.pt\")\n",
    "val_model.load_state_dict(state_dict)"
   ]
  },
  {
   "cell_type": "code",
   "execution_count": null,
   "metadata": {},
   "outputs": [],
   "source": [
    "x_train, y_train, x_test, y_test, noisy_idxs = utils.create_noisy_mnist(method='uniform', noise_level=noise_level)"
   ]
  },
  {
   "cell_type": "code",
   "execution_count": null,
   "metadata": {},
   "outputs": [],
   "source": [
    "noisy_idxs.sort()\n",
    "noisy_idxs[:20]"
   ]
  },
  {
   "cell_type": "code",
   "execution_count": null,
   "metadata": {},
   "outputs": [],
   "source": [
    "x_train = torch.tensor(x_train)\n",
    "y_train = torch.tensor(y_train)\n",
    "# test_data = torch.utils.data.TensorDataset(torch.tensor(x_test), torch.tensor(y_test))\n",
    "transform = torchvision.transforms.Compose([\n",
    "    torchvision.transforms.ToTensor(),\n",
    "    torchvision.transforms.Normalize((0.1307,), (0.3081,))\n",
    "])\n",
    "test_data = torchvision.datasets.MNIST('../data', train=False, download=True, transform=transform)"
   ]
  },
  {
   "cell_type": "code",
   "execution_count": null,
   "metadata": {},
   "outputs": [],
   "source": [
    "num_data = len(y_train)"
   ]
  },
  {
   "cell_type": "code",
   "execution_count": null,
   "metadata": {},
   "outputs": [],
   "source": [
    "engine = Odvrl(num_weak=num_weak, pred_model=pred_model, val_model=val_model, value_estimator=value_estimator, parameters=parameters)"
   ]
  },
  {
   "cell_type": "code",
   "execution_count": null,
   "metadata": {},
   "outputs": [],
   "source": [
    "time.asctime()"
   ]
  },
  {
   "cell_type": "code",
   "execution_count": null,
   "metadata": {},
   "outputs": [],
   "source": [
    "subset_len = num_data // T\n",
    "for t in range(T):\n",
    "    start_id = t * subset_len\n",
    "    end_id = min((t + 1) * subset_len, num_data)\n",
    "    engine.one_step(\n",
    "        t, \n",
    "        X=x_train[start_id:end_id], \n",
    "        y=y_train[start_id:end_id], \n",
    "        val_dataset=test_data, \n",
    "    )\n",
    "    current_noisy_idxs = np.extract((noisy_idxs >= start_id) & (noisy_idxs < end_id), noisy_idxs)\n",
    "    current_corrupted_num = len(current_noisy_idxs)\n",
    "    if current_corrupted_num > 0:\n",
    "        values = []\n",
    "        for i in range(subset_len // 32):\n",
    "            part_values = engine.evaluate(x_train[start_id+i*32: start_id+min((i+1)*32, num_data)], y_train[start_id+i*32: start_id+min((i+1)*32, num_data)])\n",
    "            values = np.concatenate((values, part_values))\n",
    "        guess_idxs = np.argsort(values)\n",
    "        print(guess_idxs[:10])\n",
    "        print(current_noisy_idxs[:10])\n",
    "        discover_rate = len(np.intersect1d(start_id+guess_idxs[:current_corrupted_num], current_noisy_idxs)) / current_corrupted_num\n",
    "        print('discover rate: {}'.format(discover_rate))"
   ]
  },
  {
   "cell_type": "code",
   "execution_count": null,
   "metadata": {},
   "outputs": [],
   "source": [
    "time.asctime()"
   ]
  }
 ],
 "metadata": {
  "kernelspec": {
   "display_name": "flenv",
   "language": "python",
   "name": "python3"
  },
  "language_info": {
   "codemirror_mode": {
    "name": "ipython",
    "version": 3
   },
   "file_extension": ".py",
   "mimetype": "text/x-python",
   "name": "python",
   "nbconvert_exporter": "python",
   "pygments_lexer": "ipython3",
   "version": "3.7.10"
  },
  "orig_nbformat": 4
 },
 "nbformat": 4,
 "nbformat_minor": 2
}
