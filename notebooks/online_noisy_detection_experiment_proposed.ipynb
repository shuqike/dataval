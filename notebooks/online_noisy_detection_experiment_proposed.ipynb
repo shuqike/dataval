{
 "cells": [
  {
   "cell_type": "code",
   "execution_count": null,
   "metadata": {},
   "outputs": [],
   "source": [
    "import wandb\n",
    "wandb.login()"
   ]
  },
  {
   "cell_type": "code",
   "execution_count": null,
   "metadata": {},
   "outputs": [],
   "source": [
    "import gc\n",
    "import os\n",
    "import sys\n",
    "sys.path.append('../')\n",
    "import time\n",
    "from collections import namedtuple\n",
    "from tqdm import tqdm\n",
    "import numpy as np\n",
    "import torch\n",
    "import torchvision\n",
    "import src.utils as utils\n",
    "from src.models import LeNetMNIST, ResVestimatorMNIST, R18VestimatorMNIST, Vestimator, LeVestimatorMNIST\n",
    "from src.frameworks.online_dvrl import Odvrl\n",
    "from src.frameworks.online_proposed import Proposed"
   ]
  },
  {
   "cell_type": "code",
   "execution_count": null,
   "metadata": {},
   "outputs": [],
   "source": [
    "from datetime import datetime\n",
    "experiment_time = datetime.fromtimestamp(time.time()).strftime('%Y-%m-%d--%H:%M:%S.%f')\n",
    "experiment_time"
   ]
  },
  {
   "cell_type": "code",
   "execution_count": null,
   "metadata": {},
   "outputs": [],
   "source": [
    "from collections import namedtuple\n",
    "Parameters = namedtuple('Parameters', [\n",
    "    'saving_path',\n",
    "    'val_batch_size',  # 不用调整，除非cuda内存爆了\n",
    "    'epochs',  # RL线下学习量\n",
    "    'device',  # 一般设'cuda'\n",
    "    'vest_learning_rate',  # 估价网络的学习率\n",
    "    'pred_learning_rate',  # 训练用分类器的学习率\n",
    "    'num_workers',  # 调大可能能运行快一些\n",
    "    'explore_strategy',  # RL探索策略，可以选'constant', 'linear', 'exponential'\n",
    "    'epsilon0',  # [0,1]区间内的值，初始探索要求，值越大探索越多\n",
    "    'threshold',  # 对我们提出的算法(proposed)没用，对DVRL有用，控制DVRL的探索，值越大探索越多\n",
    "    'discover_record_interval',  # 每几步RL迭代要检测discover rate\n",
    "    'is_debug',  #  是否在debug\n",
    "    'vest_lr_scheduler',  # 估价网络的学习scheduler\n",
    "])"
   ]
  },
  {
   "cell_type": "code",
   "execution_count": null,
   "metadata": {},
   "outputs": [],
   "source": [
    "parameters = Parameters(\n",
    "    saving_path='../logs',\n",
    "    val_batch_size=1024,\n",
    "    epochs=100,\n",
    "    device='cpu',\n",
    "    vest_learning_rate=1e-6,\n",
    "    pred_learning_rate=1e-6,\n",
    "    num_workers=3,\n",
    "    explore_strategy='constant',  # ['linear', 'constant', 'exponential']\n",
    "    epsilon0=0.5,\n",
    "    threshold=0.5,\n",
    "    discover_record_interval=1,\n",
    "    is_debug=True,\n",
    "    vest_lr_scheduler='exponential',\n",
    ")"
   ]
  },
  {
   "cell_type": "code",
   "execution_count": null,
   "metadata": {},
   "outputs": [],
   "source": [
    "T = 1  # 在线实验的时间长度，调小一些可以运行快一点，找比较好的参数的时候可以先调小T\n",
    "noise_level = 0.2  # 噪音数据的含量\n",
    "seed = 5  # 随机种子\n",
    "num_weak = 200  # 控制OOB的精度，越大OOB越好，可以跳到500\n",
    "pred_model = LeNetMNIST()\n",
    "val_model = LeNetMNIST()\n",
    "value_estimator = LeVestimatorMNIST()"
   ]
  },
  {
   "cell_type": "code",
   "execution_count": null,
   "metadata": {},
   "outputs": [],
   "source": [
    "wandb.init(\n",
    "    # Set the project where this run will be logged\n",
    "    project=\"online-noise-detection-proposed\", \n",
    "    # We pass a run name (otherwise it’ll be randomly assigned, like sunshine-lollypop-10)\n",
    "    name=f\"experiment_\"+experiment_time, \n",
    "    # Track hyperparameters and run metadata\n",
    "    config={\n",
    "    \"T\": T,\n",
    "    \"noise_level\": noise_level,\n",
    "    \"seed\": seed,\n",
    "    \"num weak learner\": num_weak,\n",
    "    \"val_batch_size\": parameters.val_batch_size,\n",
    "    \"epochs\": parameters.epochs,\n",
    "    \"vest_learning_rate\": parameters.vest_learning_rate,\n",
    "    \"pred_learning_rate\": parameters.pred_learning_rate,\n",
    "    \"num workers\": parameters.num_workers,\n",
    "    \"explore_strategy\": parameters.explore_strategy,\n",
    "    \"epsilon0\": parameters.epsilon0,\n",
    "    \"threshold\": parameters.threshold,\n",
    "    \"discover_record_interval\": parameters.discover_record_interval,\n",
    "    \"value estimator architecture\": \"LeVestimatorMNIST\",\n",
    "    \"pred model architecture\": \"LeNetMNIST\",\n",
    "    \"validation model architecture\": \"LeNetMNIST\",\n",
    "    \"dataset\": \"MNIST\",\n",
    "})"
   ]
  },
  {
   "cell_type": "code",
   "execution_count": null,
   "metadata": {},
   "outputs": [],
   "source": [
    "def train(model, device, train_loader, optimizer, epoch):\n",
    "    model.train()\n",
    "    for batch_idx, (data, target) in enumerate(train_loader):\n",
    "        data, target = data.to(device), target.to(device)\n",
    "        optimizer.zero_grad()\n",
    "        output = model.classify(data)\n",
    "        loss = torch.nn.functional.nll_loss(output, target)\n",
    "        loss.backward()\n",
    "        optimizer.step()"
   ]
  },
  {
   "cell_type": "code",
   "execution_count": null,
   "metadata": {},
   "outputs": [],
   "source": [
    "transform=torchvision.transforms.Compose([\n",
    "    torchvision.transforms.ToTensor(),\n",
    "    torchvision.transforms.Normalize((0.1307,), (0.3081,))\n",
    "])"
   ]
  },
  {
   "cell_type": "code",
   "execution_count": null,
   "metadata": {},
   "outputs": [],
   "source": [
    "if os.path.isfile('../data/pretrained_models/pretrained_levestimator.pt'):\n",
    "    value_estimator.load_state_dict(\n",
    "        torch.load(\n",
    "            '../data/pretrained_models/pretrained_levestimator.pt',\n",
    "            map_location=torch.device(parameters.device)\n",
    "        )\n",
    "    )\n",
    "else:\n",
    "    train_dataset = torchvision.datasets.MNIST('../data', train=True, download=True, transform=transform)\n",
    "    train_loader = torch.utils.data.DataLoader(train_dataset, batch_size=64, shuffle=True, num_workers=2)\n",
    "    optimizer = torch.optim.Adadelta(value_estimator.parameters(), lr=1.0)\n",
    "    value_estimator.to('cuda')\n",
    "    for epoch in tqdm(range(14)):\n",
    "        train(value_estimator, 'cuda', train_loader, optimizer, epoch)\n",
    "    torch.save(\n",
    "        value_estimator.state_dict(),\n",
    "        '../data/pretrained_models/pretrained_levestimator.pt'\n",
    "    )"
   ]
  },
  {
   "cell_type": "code",
   "execution_count": null,
   "metadata": {},
   "outputs": [],
   "source": [
    "np.random.seed(seed)\n",
    "torch.manual_seed(seed)"
   ]
  },
  {
   "cell_type": "code",
   "execution_count": null,
   "metadata": {},
   "outputs": [],
   "source": [
    "# run 'pretrain_mnist.ipynb' first\n",
    "# then load this pretrained model\n",
    "state_dict = torch.load(\"../data/pretrained_models/pretrained_lenetmnist.pt\", map_location=torch.device(parameters.device))\n",
    "val_model.load_state_dict(state_dict)"
   ]
  },
  {
   "cell_type": "code",
   "execution_count": null,
   "metadata": {},
   "outputs": [],
   "source": [
    "x_train, y_train, x_test, y_test, noisy_idxs = utils.create_noisy_mnist(method='uniform', noise_level=noise_level)"
   ]
  },
  {
   "cell_type": "code",
   "execution_count": null,
   "metadata": {},
   "outputs": [],
   "source": [
    "noisy_idxs.sort()\n",
    "noisy_idxs[:20]"
   ]
  },
  {
   "cell_type": "code",
   "execution_count": null,
   "metadata": {},
   "outputs": [],
   "source": [
    "x_train = torch.tensor(x_train)\n",
    "y_train = torch.tensor(y_train)\n",
    "test_data = torchvision.datasets.MNIST('../data', train=False, download=True, transform=transform)"
   ]
  },
  {
   "cell_type": "code",
   "execution_count": null,
   "metadata": {},
   "outputs": [],
   "source": [
    "num_data = len(y_train)"
   ]
  },
  {
   "cell_type": "code",
   "execution_count": null,
   "metadata": {},
   "outputs": [],
   "source": [
    "engine = Proposed(num_weak=num_weak, pred_model=pred_model, val_model=val_model, value_estimator=value_estimator, parameters=parameters)"
   ]
  },
  {
   "cell_type": "code",
   "execution_count": null,
   "metadata": {},
   "outputs": [],
   "source": [
    "time.asctime()"
   ]
  },
  {
   "cell_type": "code",
   "execution_count": null,
   "metadata": {},
   "outputs": [],
   "source": [
    "subset_len = num_data // T\n",
    "for t in range(T):\n",
    "    start_id = t * subset_len\n",
    "    end_id = min((t + 1) * subset_len, num_data)\n",
    "    # DEBUG\n",
    "    end_id = 2000\n",
    "    current_noisy_idxs = np.extract((noisy_idxs >= start_id) & (noisy_idxs < end_id), noisy_idxs)\n",
    "    current_corrupted_num = len(current_noisy_idxs)\n",
    "    engine.one_step(\n",
    "        t, \n",
    "        X=x_train[start_id:end_id], \n",
    "        y=y_train[start_id:end_id], \n",
    "        val_dataset=test_data, \n",
    "        subset_len=subset_len, \n",
    "        corrupted_num=current_corrupted_num,\n",
    "        noisy_idxs=current_noisy_idxs-start_id,\n",
    "        discover_record_interval=parameters.discover_record_interval,\n",
    "    )"
   ]
  },
  {
   "cell_type": "code",
   "execution_count": null,
   "metadata": {},
   "outputs": [],
   "source": [
    "time.asctime()"
   ]
  }
 ],
 "metadata": {
  "kernelspec": {
   "display_name": "flenv",
   "language": "python",
   "name": "python3"
  },
  "language_info": {
   "codemirror_mode": {
    "name": "ipython",
    "version": 3
   },
   "file_extension": ".py",
   "mimetype": "text/x-python",
   "name": "python",
   "nbconvert_exporter": "python",
   "pygments_lexer": "ipython3",
   "version": "3.9.16"
  },
  "orig_nbformat": 4
 },
 "nbformat": 4,
 "nbformat_minor": 2
}
